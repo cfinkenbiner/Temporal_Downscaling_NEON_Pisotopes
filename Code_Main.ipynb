{
 "cells": [
  {
   "cell_type": "markdown",
   "metadata": {},
   "source": [
    "## 1. Download Precipitation and Isotope NEON data"
   ]
  },
  {
   "cell_type": "code",
   "execution_count": null,
   "metadata": {},
   "outputs": [],
   "source": [
    "# Load rpy2 so R scripts can run within jupyter notebook - run this one time\n",
    "%load_ext rpy2.ipython"
   ]
  },
  {
   "cell_type": "code",
   "execution_count": null,
   "metadata": {},
   "outputs": [],
   "source": [
    "%%R \n",
    "# This rpy2 'Rmagic' command allows to run the entire cell block as R code\n",
    "\n",
    "# Install R packages - run this one time\n",
    "install.packages(\"neonUtilities\")\n",
    "install.packages('openxlsx')\n"
   ]
  },
  {
   "cell_type": "code",
   "execution_count": null,
   "metadata": {},
   "outputs": [],
   "source": [
    "%%R\n",
    "\n",
    "# Load required libraries - run this every time\n",
    "library(neonUtilities)\n",
    "library(openxlsx)\n",
    "\n",
    "# Download and export ONAQ isotope data --> change this to all sites??\n",
    "ONAQIsoData <- loadByProduct(dpID=\"DP1.00038.001\", site=c(\"ONAQ\"))\n",
    "list2env(ONAQIsoData, .GlobalEnv)\n",
    "write.xlsx(wdi_isoPerSample, \"~/Desktop/NEON/Temporal_Downscaling_NEON_Pisotopes/ONAQIsoData.xlsx\", row.names=F)\n",
    "\n",
    "# downloading and exporting ONAQ precipitation data\n",
    "ONAQPrecipData <- loadByProduct(dpID=\"DP1.00006.001\", site=c(\"ONAQ\"))\n",
    "list2env(ONAQPrecipData, .GlobalEnv)\n",
    "write.xlsx(PRIPRE_30min, \"~/Desktop/NEON/Temporal_Downscaling_NEON_Pisotopes/ONAQPrecipData.xlsx\", row.names=F)"
   ]
  },
  {
   "cell_type": "markdown",
   "metadata": {},
   "source": [
    "## 2. Generate a downscaled daily data product at each NEON site"
   ]
  },
  {
   "cell_type": "code",
   "execution_count": 1,
   "metadata": {},
   "outputs": [],
   "source": [
    "## Python Import Statements\n",
    "import os\n",
    "import pandas as pd\n",
    "import numpy as np\n",
    "import scipy as sp\n",
    "from scipy import stats\n",
    "from scipy import optimize\n",
    "import matplotlib.pyplot as plt\n",
    "\n",
    "ROOTDIR = os.getcwd() # Home directory\n",
    "CODEDIR = ROOTDIR + '/CODE/' # Code directory\n",
    "DATADIR = ROOTDIR + '/DATA/' # Data directory\n",
    "\n",
    "os.chdir(CODEDIR) # Change directory\n",
    "import changeTimes\n",
    "import getRunningMean\n",
    "import conditional_copula_ts\n",
    "import iso_sine_signal\n",
    "import calcSiteStats\n",
    "\n",
    "os.chdir(ROOTDIR) # Change directory"
   ]
  },
  {
   "cell_type": "code",
   "execution_count": 2,
   "metadata": {},
   "outputs": [],
   "source": [
    "# 30min Precipitation Data\n",
    "df_P30 = pd.read_excel(DATADIR+'/PrecipData/ONAQPrecipData.xlsx',index=False)\n",
    "df_P30 = changeTimes.change_Pdata(df_P30)\n",
    "\n",
    "\n",
    "# Sum to Daily Precipitation Amounts\n",
    "df_P30b = df_P30.set_index('DateTime')\n",
    "precip_daily = df_P30b['priPrecipBulk'].resample('D').sum() # sum total daily P\n",
    "frac_year = df_P30b['FracYear'].resample('D').mean() # average daily FracYear (min or max better?)\n",
    "\n",
    "daily_P = pd.DataFrame({'Total P':precip_daily,'FracYear':frac_year})\n",
    "daily_P['Total P'].replace(0, np.nan, inplace=True)\n",
    "\n",
    "\n",
    "# Biweekly Stable Water Isotope Data\n",
    "df_iso = pd.read_excel(DATADIR+'/IsoData/ONAQIsoData.xlsx',index=False)\n",
    "df_iso = changeTimes.change_ISOdata(df_iso)\n",
    "\n",
    "\n",
    "\n",
    "# Create Biweekly Precipitation Amount Timeseries to Correspond to Recorded Isotope Values\n",
    "df_iso['setDate'] = pd.to_datetime(df_iso['setDate'])  \n",
    "df_iso['collectDate'] = pd.to_datetime(df_iso['collectDate']) \n",
    "\n",
    "P14 = []\n",
    "for i in np.arange(len(df_iso['setDate'])):\n",
    "    subset = ((df_P30['DateTime'] > df_iso['setDate'].iloc[i]) \n",
    "            & (df_P30['DateTime'] <= df_iso['collectDate'].iloc[i]))\n",
    "    \n",
    "    df_sub = df_P30.loc[subset]\n",
    "    P14.append(np.nansum(df_sub['priPrecipBulk'].values))\n",
    "\n",
    "df_iso['Total P'] = P14\n",
    "del P14, i, subset"
   ]
  },
  {
   "cell_type": "markdown",
   "metadata": {},
   "source": [
    "Step 1 - Remove seasonal time series component (Section 2.b.1)"
   ]
  },
  {
   "cell_type": "code",
   "execution_count": 12,
   "metadata": {},
   "outputs": [
    {
     "name": "stdout",
     "output_type": "stream",
     "text": [
      "lambda =  0.02203856749311295\n"
     ]
    }
   ],
   "source": [
    "# Define Sine Wave Functions\n",
    "df_iso = df_iso.sort_values('DateTime')\n",
    "df_iso = df_iso.dropna(subset=['Total P'])\n",
    "tsX = df_iso['FracYear'].values \n",
    "tsP = df_iso['Total P'].values\n",
    "tsO = df_iso['d18OWater'].values\n",
    "tsH = df_iso['d2HWater'].values   \n",
    "\n",
    "dayslist = []\n",
    "for dt in np.arange(len(df_iso['DateTime'])):\n",
    "    dayslist.append((df_iso['DateTime'].iloc[dt] - df_iso['DateTime'].iloc[0]).days)\n",
    "dayslist = np.array(dayslist)\n",
    "\n",
    "# this is precipitation frequency (see Eq. 4)\n",
    "p_events = df_iso[df_iso['Total P'].notna()]\n",
    "\n",
    "lamda = len(p_events['Total P'])/((daily_P.index.max() - daily_P.index.min()).days) \n",
    "print(\"lambda = \",lamda)\n",
    "\n",
    "sitename = str((df_iso['sampleID'].iloc[0])[4:8])\n",
    "\n",
    "params1, params2 = iso_sine_signal.sine_params(sitename,14,tsX,tsP,tsH,tsO) # 14 = biweekly sample, sample frequency\n",
    "tsY_sine_wave = iso_sine_signal.sine_func(tsX, params1[0],params1[1],params1[2]) # solve for amplitude, phase, offset\n",
    "adj_2H = np.array((tsH - tsY_sine_wave))    # remove seasonality from time series                       \n",
    "\n",
    "tsY_sine_wave = iso_sine_signal.sine_func(tsX, params2[0],params2[1],params2[2])     \n",
    "adj_18O = np.array((tsO - tsY_sine_wave))  "
   ]
  },
  {
   "cell_type": "code",
   "execution_count": 4,
   "metadata": {},
   "outputs": [
    {
     "name": "stdout",
     "output_type": "stream",
     "text": [
      "Resulting time series statistics should be a mean zero process - means are approx. zero\n",
      "[[ 1.00729167e+01 -6.41625064e-09  4.10853063e-09]\n",
      " [ 6.25405167e+00  2.40001063e+01  4.21709252e+00]\n",
      " [-2.74446363e-01 -5.11704193e-01  8.43321290e-01]]\n"
     ]
    }
   ],
   "source": [
    "# Get biweekly site stats of stochastic component\n",
    "biweekly_stats = np.array([[np.mean(tsP), np.mean(adj_2H), np.mean(adj_18O)],\n",
    "                 [np.std(tsP), np.std(adj_2H), np.std(adj_18O)],\n",
    "                 [sp.stats.pearsonr(tsP,adj_2H)[0], sp.stats.pearsonr(tsP,adj_18O)[0], sp.stats.pearsonr(adj_2H,adj_18O)[0]]])\n",
    "print(\"Resulting time series statistics should be a mean zero process - means are approx. zero\")\n",
    "print(biweekly_stats)"
   ]
  },
  {
   "cell_type": "markdown",
   "metadata": {},
   "source": [
    "Step 2 - Predict daily statistics from biweekly time series (Section 2.b.2)\n",
    "Now we will need to aggregate the stochastic biweekly time series - i.e. calculated\n",
    "weighed running means at biweekly (14-day), 28-day, 42-day, 56-day and 84-day intervals"
   ]
  },
  {
   "cell_type": "code",
   "execution_count": 5,
   "metadata": {},
   "outputs": [
    {
     "name": "stdout",
     "output_type": "stream",
     "text": [
      "   site  agglev    lambda       PmuB          HmuB          OmuB     PsigB  \\\n",
      "0  ONAQ      14  0.022039  10.072917 -6.416251e-09  4.108531e-09  6.254052   \n",
      "1  ONAQ      28  0.022039  10.867179  5.086557e-11  1.274495e-11  3.318060   \n",
      "2  ONAQ      42  0.022039  10.538750 -5.490219e-08  3.563882e-09  2.803673   \n",
      "3  ONAQ      56  0.022039  10.232938  3.055387e-10  5.886917e-09  3.757364   \n",
      "4  ONAQ      70  0.022039  10.645119  2.297601e-08 -4.139117e-09  3.063283   \n",
      "5  ONAQ      84  0.022039  10.271329  3.794298e-13  2.756906e-13  2.388358   \n",
      "\n",
      "       HsigB     OsigB      PHpB      POpB      HOpB  \n",
      "0  24.000106  4.217093 -0.274446 -0.511704  0.843321  \n",
      "1  20.984352  2.839854 -0.111215 -0.299670  0.926102  \n",
      "2  21.377732  3.022917 -0.612062 -0.601064  0.988039  \n",
      "3  19.167251  2.665483  0.196506  0.119621  0.968970  \n",
      "4  24.172918  2.957074  0.088320  0.054249  0.992629  \n",
      "5  22.424191  3.107741  0.100196  0.100158  1.000000  \n"
     ]
    }
   ],
   "source": [
    "# function defining calculated statistics on time series\n",
    "site_stats = [[sitename, 14, lamda,\n",
    "               biweekly_stats[0,0], biweekly_stats[0,1], biweekly_stats[0,2],\n",
    "               biweekly_stats[1,0], biweekly_stats[1,1], biweekly_stats[1,2],\n",
    "               biweekly_stats[2,0], biweekly_stats[2,1], biweekly_stats[2,2]]]\n",
    "\n",
    "for n in np.arange(28,85,14):\n",
    "    xday_Hb, xday_Pb, xday_Xb, days = getRunningMean.main(np.array(dayslist),np.array(tsH),np.array(tsP),tsX,n)\n",
    "    xday_Ob, xday_Pb, xday_Xb, days = getRunningMean.main(np.array(dayslist),np.array(tsO),np.array(tsP),tsX,n)  \n",
    "\n",
    "    xday_Xb = np.array(xday_Xb)\n",
    "    xday_Pb = np.array(xday_Pb)\n",
    "    xday_Hb = np.array(xday_Hb)\n",
    "    xday_Ob = np.array(xday_Ob)   \n",
    "  \n",
    "    params1a, params2a = iso_sine_signal.sine_params(sitename,n,xday_Xb,xday_Pb,xday_Hb,xday_Ob)\n",
    "\n",
    "    tsY_sine_wave = iso_sine_signal.sine_func(xday_Xb, params1a[0],params1a[1],params1a[2])\n",
    "    adj_2Hb = np.array((xday_Hb - tsY_sine_wave))                           \n",
    "\n",
    "    tsY_sine_wave = iso_sine_signal.sine_func(xday_Xb, params2a[0],params2a[1],params2a[2])     \n",
    "    adj_18Ob = np.array((xday_Ob - tsY_sine_wave))   \n",
    "    \n",
    "    calcSiteStats.main(site_stats,sitename,lamda,n,xday_Pb,adj_2Hb,adj_18Ob)\n",
    " \n",
    "### the stats are labeled with 'B' here because they are of the stochastic component - not the original time series\n",
    "Site_Stats = pd.DataFrame(site_stats, columns = ['site','agglev','lambda','PmuB','HmuB','OmuB','PsigB','HsigB','OsigB','PHpB','POpB','HOpB'])\n",
    "print(Site_Stats)"
   ]
  },
  {
   "cell_type": "code",
   "execution_count": 6,
   "metadata": {},
   "outputs": [],
   "source": [
    "### Now we apply equation 4\n",
    "Hi = [] ; Oi = [] # estimated 1-day parameters\n",
    "H_a = [] ; O_a = [] # a term\n",
    "\n",
    "xaxis = np.array(Site_Stats['agglev'].values)\n",
    "yaxis1 = np.array(Site_Stats['HsigB'].values)\n",
    "yaxis2 = np.array(Site_Stats['OsigB'].values)\n",
    "\n",
    "def eq4(x,a,b):\n",
    "    return b/(x*lamda)**a\n",
    "\n",
    "bounds = [[0.25,yaxis1[0]],[0.5,np.inf]]\n",
    "p1,p2 = optimize.curve_fit(eq4, xaxis, yaxis1, p0 = [0.3,yaxis1[0]], bounds=bounds)\n",
    "\n",
    "Hi.append(float(p1[1]))\n",
    "H_a.append(p1[0])\n",
    "\n",
    "bounds = [[0.2,yaxis2[0]],[0.5,np.inf]]\n",
    "p1,p2 = optimize.curve_fit(eq4, xaxis, yaxis2,  p0 = [0.3,yaxis2[0]], bounds=bounds)\n",
    "\n",
    "Oi.append(float(p1[1]))\n",
    "O_a.append(p1[0])"
   ]
  },
  {
   "cell_type": "markdown",
   "metadata": {},
   "source": [
    "Step 3 - Generate daily time series with estimated statistcs (Section 2.b.2)"
   ]
  },
  {
   "cell_type": "code",
   "execution_count": 7,
   "metadata": {},
   "outputs": [],
   "source": [
    "H_scale = np.sort(np.array(adj_2H) * Hi / Site_Stats['HsigB'].iloc[0])\n",
    "O_scale = np.sort(np.array(adj_18O) * Oi / Site_Stats['OsigB'].iloc[0])\n",
    "\n",
    "copula_stats = np.matrix([[0, 0, 0], [np.std(tsP), Hi, Oi],\n",
    "                          [Site_Stats['PHpB'].iloc[0], Site_Stats['POpB'].iloc[0],\n",
    "                           Site_Stats['HOpB'].iloc[0]]])    \n",
    "        \n",
    "new_ts = conditional_copula_ts.main(daily_P['Total P'],copula_stats,H_scale,O_scale)\n",
    "y = np.array([np.array(xi) for xi in new_ts])"
   ]
  },
  {
   "cell_type": "markdown",
   "metadata": {},
   "source": [
    "Step 4 - Add in seasonal time series component (Section 2.b.2)"
   ]
  },
  {
   "cell_type": "code",
   "execution_count": 8,
   "metadata": {},
   "outputs": [
    {
     "data": {
      "text/plain": [
       "(array([736573., 736695., 736815., 736938., 737060., 737180., 737303.,\n",
       "        737425., 737546.]),\n",
       " <a list of 9 Text xticklabel objects>)"
      ]
     },
     "execution_count": 8,
     "metadata": {},
     "output_type": "execute_result"
    },
    {
     "data": {
      "image/png": "[encoded data removed]",
      "text/plain": [
       "<Figure size 432x288 with 1 Axes>"
      ]
     },
     "metadata": {
      "needs_background": "light"
     },
     "output_type": "display_data"
    }
   ],
   "source": [
    "# Add back in n-day sine function here:\n",
    "tsH_daily = y[:,0] + iso_sine_signal.sine_func(daily_P['FracYear'], params1[0],params1[1],params1[2])    \n",
    "tsO_daily = y[:,1] + iso_sine_signal.sine_func(daily_P['FracYear'], params2[0],params2[1],params2[2])\n",
    "\n",
    "daily_P['d2H'] = tsH_daily\n",
    "daily_P['d18O'] = tsO_daily \n",
    "\n",
    "plt.figure()\n",
    "plt.plot(daily_P.index, daily_P['d2H'],'b.')\n",
    "plt.plot(daily_P.index, iso_sine_signal.sine_func(daily_P['FracYear'], params1[0],params1[1],params1[2]),'k')\n",
    "plt.plot(daily_P.index, daily_P['d18O'],'r.')\n",
    "plt.plot(daily_P.index, iso_sine_signal.sine_func(daily_P['FracYear'], params2[0],params2[1],params2[2]),'k') \n",
    "plt.xticks(rotation=45)\n",
    "plt.savefig(ROOTDIR+'/FIGURES/'+str(sitename)+'_iso.png',dpi=20)"
   ]
  },
  {
   "cell_type": "markdown",
   "metadata": {},
   "source": [
    "## 3. visualize output - i.e. time series plots and dual isotope plots"
   ]
  },
  {
   "cell_type": "code",
   "execution_count": null,
   "metadata": {},
   "outputs": [],
   "source": [
    "# python or R scripts for plotting 1-2 sites (user can interchange site plotted by using unique site code (4 letter string))"
   ]
  },
  {
   "cell_type": "code",
   "execution_count": null,
   "metadata": {},
   "outputs": [],
   "source": []
  }
 ],
 "metadata": {
  "kernelspec": {
   "display_name": "Python 3",
   "language": "python",
   "name": "python3"
  },
  "language_info": {
   "codemirror_mode": {
    "name": "ipython",
    "version": 3
   },
   "file_extension": ".py",
   "mimetype": "text/x-python",
   "name": "python",
   "nbconvert_exporter": "python",
   "pygments_lexer": "ipython3",
   "version": "3.7.7"
  }
 },
 "nbformat": 4,
 "nbformat_minor": 4
}
