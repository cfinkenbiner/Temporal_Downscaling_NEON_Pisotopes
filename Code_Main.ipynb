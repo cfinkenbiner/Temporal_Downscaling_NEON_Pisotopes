{
 "cells": [
  {
   "cell_type": "markdown",
   "metadata": {},
   "source": [
    "## 1. Download Precipitation and Isotope NEON data"
   ]
  },
  {
   "cell_type": "code",
   "execution_count": null,
   "metadata": {},
   "outputs": [],
   "source": [
    "# Load rpy2 so R scripts can run within jupyter notebook\n",
    "%load_ext rpy2.ipython"
   ]
  },
  {
   "cell_type": "code",
   "execution_count": null,
   "metadata": {},
   "outputs": [],
   "source": [
    "# This rpy2 'Rmagic' command allows to run the entire cell block as R code\n",
    "%%R \n",
    "\n",
    "# Install R packages\n",
    "install.packages(\"neonUtilities\")\n",
    "install.packages('openxlsx')\n"
   ]
  },
  {
   "cell_type": "code",
   "execution_count": null,
   "metadata": {},
   "outputs": [],
   "source": [
    "%%R\n",
    "\n",
    "# Load required libraries\n",
    "library(neonUtilities)\n",
    "library(openxlsx)\n",
    "\n",
    "# Download and export ONAQ isotope data --> change this to all sites??\n",
    "ONAQIsoData <- loadByProduct(dpID=\"DP1.00038.001\", site=c(\"ONAQ\"))\n",
    "list2env(ONAQIsoData, .GlobalEnv)\n",
    "write.xlsx(wdi_isoPerSample, \"~/Desktop/NEON/Temporal_Downscaling_NEON_Pisotopes/ONAQIsoData.xlsx\", row.names=F)\n",
    "\n",
    "# downloading and exporting ONAQ precipitation data\n",
    "ONAQPrecipData <- loadByProduct(dpID=\"DP1.00006.001\", site=c(\"ONAQ\"))\n",
    "list2env(ONAQPrecipData, .GlobalEnv)\n",
    "write.xlsx(PRIPRE_30min, \"~/Desktop/NEON/Temporal_Downscaling_NEON_Pisotopes/ONAQPrecipData.xlsx\", row.names=F)"
   ]
  },
  {
   "cell_type": "markdown",
   "metadata": {},
   "source": [
    "## 2. Generate a downscaled daily data product at each NEON site"
   ]
  },
  {
   "cell_type": "code",
   "execution_count": 1,
   "metadata": {},
   "outputs": [],
   "source": [
    "## Python Import Statements\n",
    "import pandas as pd\n",
    "import numpy as np\n",
    "import os\n",
    "import scipy as sp\n",
    "from scipy import stats\n",
    "from scipy import optimize\n",
    "import matplotlib.pyplot as plt\n",
    "\n",
    "import changeTimes\n",
    "import getRunningMean\n",
    "import conditional_copula_ts"
   ]
  },
  {
   "cell_type": "code",
   "execution_count": 2,
   "metadata": {},
   "outputs": [],
   "source": [
    "ROOTDIR = os.getcwd()\n",
    "\n",
    "# 30min Precipitation Data\n",
    "df_P30 = pd.read_excel(ROOTDIR+'/ONAQPrecipData.xlsx',index=False) # figure out how to organize so we can iterate through all sites\n",
    "df_P30 = changeTimes.change_Pdata(df_P30)\n",
    "\n",
    "# Biweekly Stable Water Isotope Data\n",
    "df_iso = pd.read_excel(ROOTDIR+'/ONAQIsoData.xlsx',index=False)\n",
    "df_iso = changeTimes.change_ISOdata(df_iso)"
   ]
  },
  {
   "cell_type": "code",
   "execution_count": 3,
   "metadata": {},
   "outputs": [],
   "source": [
    "# Create Biweekly Precipitation Amount Timeseries to Correspond to Recorded Isotope Values\n",
    "df_iso['setDate'] = pd.to_datetime(df_iso['setDate'])  \n",
    "df_iso['collectDate'] = pd.to_datetime(df_iso['collectDate']) \n",
    "\n",
    "P14 = []\n",
    "for i in np.arange(len(df_iso['setDate'])):\n",
    "    mask = ((df_P30['DateTime'] > df_iso['setDate'].iloc[i]) \n",
    "            & (df_P30['DateTime'] <= df_iso['collectDate'].iloc[i]))\n",
    "    \n",
    "    df_sub = df_P30.loc[mask]\n",
    "    P14.append(np.sum(df_sub['priPrecipBulk'].values))\n",
    "\n",
    "df_iso['Total P'] = P14\n",
    "del P14, i, mask"
   ]
  },
  {
   "cell_type": "code",
   "execution_count": 4,
   "metadata": {},
   "outputs": [
    {
     "name": "stdout",
     "output_type": "stream",
     "text": [
      "            Total P  FracYear\n",
      "DateTime                     \n",
      "2017-07-08     1.02  0.517454\n",
      "2017-07-09     0.88  0.520192\n",
      "2017-07-10     0.61  0.522930\n",
      "2017-07-11     0.60  0.525667\n",
      "2017-07-12     0.67  0.528405\n",
      "...             ...       ...\n",
      "2020-06-27     0.12  0.490075\n",
      "2020-06-28     0.58  0.492813\n",
      "2020-06-29     2.56  0.495551\n",
      "2020-06-30     0.33  0.498289\n",
      "2020-07-01      NaN  0.501027\n",
      "\n",
      "[1090 rows x 2 columns]\n"
     ]
    }
   ],
   "source": [
    "# Sum Daily Precipitation Amounts\n",
    "df_P30b = df_P30.set_index('DateTime')\n",
    "precip_daily = df_P30b['priPrecipBulk'].resample('D').sum() # sum total daily P\n",
    "frac_year = df_P30b['FracYear'].resample('D').mean() # average daily FracYear\n",
    "\n",
    "daily_P = pd.DataFrame({'Total P':precip_daily,'FracYear':frac_year})\n",
    "daily_P['Total P'].replace(0, np.nan, inplace=True)\n",
    "print(daily_P)"
   ]
  },
  {
   "cell_type": "markdown",
   "metadata": {},
   "source": [
    "Step 1 - Remove seasonal time series component (Section 2.b.1)"
   ]
  },
  {
   "cell_type": "code",
   "execution_count": 5,
   "metadata": {},
   "outputs": [
    {
     "name": "stdout",
     "output_type": "stream",
     "text": [
      "0.8953168044077136\n"
     ]
    }
   ],
   "source": [
    "# Define Sine Wave Functions\n",
    "def sine_wave(t, amplitude, phase, offset):\n",
    "    return amplitude * np.sin(2*np.pi*t - phase) + offset  # assume phase is decimal year/year\n",
    "\n",
    "def sin_curves(name,agglevel,frac_yr,P,H,O):   \n",
    "    param_bounds=([0,-np.pi,-np.inf],[np.inf,np.pi,np.inf])               \n",
    "    \n",
    "    # d2H - find parameters for sine function based on frac year \n",
    "    params1, params_covariance = optimize.curve_fit(sine_wave, frac_yr, H, p0 = [np.std(H)*(2*np.sqrt(2)),np.pi/2,np.mean(H)], bounds = param_bounds)\n",
    "    # d18O - find parameters for sine function based on frac year \n",
    "    params2, params_covariance = optimize.curve_fit(sine_wave, frac_yr, O, p0 = [np.std(O)*(2*np.sqrt(2)),np.pi/2,np.mean(O)], bounds = param_bounds)\n",
    "      \n",
    "    return params1, params2\n",
    "\n",
    "df_iso = df_iso.sort_values('DateTime')\n",
    "df_iso = df_iso.dropna(subset=['Total P'])\n",
    "tsX = df_iso['FracYear'].values \n",
    "tsP = df_iso['Total P'].values\n",
    "tsO = df_iso['d18OWater'].values\n",
    "tsH = df_iso['d2HWater'].values   \n",
    "\n",
    "dayslist = []\n",
    "for dt in np.arange(len(df_iso['DateTime'])):\n",
    "    dayslist.append((df_iso['DateTime'].iloc[dt] - df_iso['DateTime'].iloc[0]).days)\n",
    "dayslist = np.array(dayslist)\n",
    "\n",
    "# this is precipitation frequency (see Eq. 4)\n",
    "p_events = daily_P[daily_P['Total P'].notna()]\n",
    "lamda = len(p_events)/((daily_P.index.max() - daily_P.index.min()).days) \n",
    "print(lamda)\n",
    "sitename = str((df_iso['sampleID'].iloc[0])[4:8])\n",
    "\n",
    "params1, params2 = sin_curves(sitename,14,tsX,tsP,tsH,tsO) # 14 = biweekly sample, sample frequency\n",
    "tsY_sine_wave = sine_wave(tsX, params1[0],params1[1],params1[2]) # solve for amplitude, phase, offset\n",
    "adj_2H = np.array((tsH - tsY_sine_wave))    # remove seasonality from time series                       \n",
    "\n",
    "tsY_sine_wave = sine_wave(tsX, params2[0],params2[1],params2[2])     \n",
    "adj_18O = np.array((tsO - tsY_sine_wave))  "
   ]
  },
  {
   "cell_type": "code",
   "execution_count": 6,
   "metadata": {},
   "outputs": [
    {
     "name": "stdout",
     "output_type": "stream",
     "text": [
      "Resulting time series statistics should be a mean zero process - means are approx. zero\n",
      "[[ 1.09275000e+01  6.33778710e-08  8.91584773e-09]\n",
      " [ 6.72998653e+00  2.74082842e+01  4.76215428e+00]\n",
      " [-2.44952714e-01 -4.71851922e-01  8.98585573e-01]]\n"
     ]
    }
   ],
   "source": [
    "# Get biweekly site stats\n",
    "biweekly_stats = np.array([[np.mean(tsP), np.mean(adj_2H), np.mean(adj_18O)],\n",
    "                 [np.std(tsP), np.std(adj_2H), np.std(adj_18O)],\n",
    "                 [sp.stats.pearsonr(tsP,adj_2H)[0], sp.stats.pearsonr(tsP,adj_18O)[0], sp.stats.pearsonr(adj_2H,adj_18O)[0]]])\n",
    "print(\"Resulting time series statistics should be a mean zero process - means are approx. zero\")\n",
    "print(biweekly_stats)"
   ]
  },
  {
   "cell_type": "markdown",
   "metadata": {},
   "source": [
    "Step 2 - Predict daily statistics from biweekly time series (Section 2.b.2)\n",
    "Now we will need to aggregate the stochastic biweekly time series - i.e. calculated\n",
    "weighed running means at biweekly (14-day), 28-day, 42-day, 56-day and 84-day intervals"
   ]
  },
  {
   "cell_type": "code",
   "execution_count": 15,
   "metadata": {},
   "outputs": [
    {
     "name": "stdout",
     "output_type": "stream",
     "text": [
      "   site  agglev    lambda       PmuB          HmuB          OmuB     PsigB  \\\n",
      "0  ONAQ      14  0.895317  10.927500  6.337787e-08  8.915848e-09  6.729987   \n",
      "1  ONAQ      28  0.895317  12.395303  1.693503e-08  7.527635e-11  7.432982   \n",
      "2  ONAQ      42  0.895317  12.664524  5.389526e-08 -7.578136e-09  8.168665   \n",
      "3  ONAQ      56  0.895317  12.836667 -2.920600e-08  0.000000e+00  8.102183   \n",
      "4  ONAQ      70  0.895317  10.983000  2.016520e-12 -1.931094e-08  3.438573   \n",
      "5  ONAQ      84  0.895317  13.983833 -2.900435e-12  4.026969e-10  9.314075   \n",
      "\n",
      "       HsigB     OsigB      PHpB      POpB      HOpB  \n",
      "0  27.408284  4.762154 -0.244953 -0.471852  0.898586  \n",
      "1  20.863164  3.415396 -0.267219 -0.480032  0.866566  \n",
      "2  21.834525  2.990225 -0.369992 -0.434037  0.984621  \n",
      "3  17.916000  2.726485 -0.241369 -0.395785  0.963708  \n",
      "4  23.698785  3.394874 -0.288601 -0.306972  0.997940  \n",
      "5   5.222634  0.452502  0.240199  0.201262  0.992230  \n"
     ]
    }
   ],
   "source": [
    "# function defining calculated statistics on time series\n",
    "def calcSiteStats(site,lamda,agglev,P,H,O):\n",
    "    Pmu = np.mean(P)            # means\n",
    "    Hmu = np.mean(H)\n",
    "    Omu = np.mean(O)\n",
    "    \n",
    "    Psigma = np.std(P)           # stds/sigmas\n",
    "    Hsigma = np.std(H)\n",
    "    Osigma = np.std(O)\n",
    "    \n",
    "    PH_pearson = sp.stats.pearsonr(P,H)[0]     # rhos\n",
    "    PO_pearson = sp.stats.pearsonr(P,O)[0]  \n",
    "    HO_pearson = sp.stats.pearsonr(H,O)[0] \n",
    "    \n",
    "    site_stats.append([site,agglev,lamda,Pmu,Hmu,Omu,Psigma,Hsigma,Osigma,PH_pearson,PO_pearson,HO_pearson])\n",
    "\n",
    "site_stats = [[sitename, 14, lamda,\n",
    "               biweekly_stats[0,0], biweekly_stats[0,1], biweekly_stats[0,2],\n",
    "               biweekly_stats[1,0], biweekly_stats[1,1], biweekly_stats[1,2],\n",
    "               biweekly_stats[2,0], biweekly_stats[2,1], biweekly_stats[2,2]]]\n",
    "\n",
    "for n in np.arange(28,85,14):\n",
    "    xday_Hb, xday_Pb, xday_Xb, days = getRunningMean.main(np.array(dayslist),np.array(tsH),np.array(tsP),tsX,n)\n",
    "    xday_Ob, xday_Pb, xday_Xb, days = getRunningMean.main(np.array(dayslist),np.array(tsO),np.array(tsP),tsX,n)  \n",
    "\n",
    "    xday_Xb = np.array(xday_Xb)\n",
    "    xday_Pb = np.array(xday_Pb)\n",
    "    xday_Hb = np.array(xday_Hb)\n",
    "    xday_Ob = np.array(xday_Ob)   \n",
    "  \n",
    "    params1a, params2a = sin_curves(sitename,n,xday_Xb,xday_Pb,xday_Hb,xday_Ob)\n",
    "\n",
    "    tsY_sine_wave = sine_wave(xday_Xb, params1a[0],params1a[1],params1a[2])\n",
    "    adj_2Hb = np.array((xday_Hb - tsY_sine_wave))                           \n",
    "\n",
    "    tsY_sine_wave = sine_wave(xday_Xb, params2a[0],params2a[1],params2a[2])     \n",
    "    adj_18Ob = np.array((xday_Ob - tsY_sine_wave))   \n",
    "    \n",
    "    calcSiteStats(sitename,lamda,n,xday_Pb,adj_2Hb,adj_18Ob)\n",
    " \n",
    "### the stats are labeled with 'B' here because they are of the stochastic component - not the original time series\n",
    "Site_Stats = pd.DataFrame(site_stats, columns = ['site','agglev','lambda','PmuB','HmuB','OmuB','PsigB','HsigB','OsigB','PHpB','POpB','HOpB'])\n",
    "print(Site_Stats)"
   ]
  },
  {
   "cell_type": "code",
   "execution_count": 17,
   "metadata": {},
   "outputs": [
    {
     "data": {
      "text/plain": [
       "[<matplotlib.lines.Line2D at 0x7fa521b4fbd0>]"
      ]
     },
     "execution_count": 17,
     "metadata": {},
     "output_type": "execute_result"
    },
    {
     "data": {
      "image/png": "[encoded data removed]",
      "text/plain": [
       "<Figure size 432x216 with 2 Axes>"
      ]
     },
     "metadata": {
      "needs_background": "light"
     },
     "output_type": "display_data"
    }
   ],
   "source": [
    "### Now we apply equation 4\n",
    "Hi = [] ; Oi = [] # estimated 1-day parameters\n",
    "H_a = [] ; O_a = [] # a term\n",
    "\n",
    "xaxis = np.array(Site_Stats['agglev'].values)\n",
    "yaxis1 = np.array(Site_Stats['HsigB'].values)\n",
    "yaxis2 = np.array(Site_Stats['OsigB'].values)\n",
    "\n",
    "def eq4(x,a,b):\n",
    "    return b/(x*lamda)**a\n",
    "\n",
    "bounds = [[0.25,yaxis1[0]],[0.5,np.inf]]\n",
    "p1,p2 = optimize.curve_fit(eq4, xaxis, yaxis1, p0 = [0.3,yaxis1[0]], bounds=bounds)\n",
    "\n",
    "Hi.append(float(p1[1]))\n",
    "H_a.append(p1[0])\n",
    "\n",
    "bounds = [[0.2,yaxis2[0]],[0.5,np.inf]]\n",
    "p1,p2 = optimize.curve_fit(eq4, xaxis, yaxis2,  p0 = [0.3,yaxis2[0]], bounds=bounds)\n",
    "\n",
    "Oi.append(float(p1[1]))\n",
    "O_a.append(p1[0])\n",
    "\n",
    "x = np.arange(1,85,1)\n",
    "plt.figure(figsize=(6,3))\n",
    "ax1 = plt.subplot(1,2,1)\n",
    "ax1.plot(xaxis,yaxis1,'k>')\n",
    "ax1.plot(x,eq4(x,H_a,Hi),'g')\n",
    "ax1.plot(1,Hi,'ro')\n",
    "ax2 = plt.subplot(1,2,2)\n",
    "ax2.plot(xaxis,yaxis2,'k>')\n",
    "ax2.plot(x,eq4(x,O_a,Oi),'g')\n",
    "ax2.plot(1,Oi,'ro')"
   ]
  },
  {
   "cell_type": "markdown",
   "metadata": {},
   "source": [
    "Step 3 - Generate daily time series with estimated statistcs (Section 2.b.2)"
   ]
  },
  {
   "cell_type": "code",
   "execution_count": 21,
   "metadata": {},
   "outputs": [],
   "source": [
    "H_scale = np.sort(np.array(adj_2H) * Hi / Site_Stats['HsigB'].iloc[0])\n",
    "O_scale = np.sort(np.array(adj_18O) * Oi / Site_Stats['OsigB'].iloc[0])\n",
    "\n",
    "copula_stats = np.matrix([[0, 0, 0], [np.std(tsP), Hi, Oi],\n",
    "                          [Site_Stats['PHpB'].iloc[0], Site_Stats['POpB'].iloc[0],\n",
    "                           Site_Stats['HOpB'].iloc[0]]])    \n",
    "        \n",
    "new_ts = conditional_copula_ts.main(daily_P['Total P'],copula_stats,H_scale,O_scale)\n",
    "y = np.array([np.array(xi) for xi in new_ts])"
   ]
  },
  {
   "cell_type": "markdown",
   "metadata": {},
   "source": [
    "Step 4 - Add in seasonal time series component (Section 2.b.2)"
   ]
  },
  {
   "cell_type": "code",
   "execution_count": 22,
   "metadata": {},
   "outputs": [
    {
     "data": {
      "text/plain": [
       "(array([736573., 736695., 736815., 736938., 737060., 737180., 737303.,\n",
       "        737425., 737546.]),\n",
       " <a list of 9 Text xticklabel objects>)"
      ]
     },
     "execution_count": 22,
     "metadata": {},
     "output_type": "execute_result"
    },
    {
     "data": {
      "image/png": "[encoded data removed]",
      "text/plain": [
       "<Figure size 432x288 with 1 Axes>"
      ]
     },
     "metadata": {
      "needs_background": "light"
     },
     "output_type": "display_data"
    }
   ],
   "source": [
    "# Add back in n-day sine function here:\n",
    "tsH_daily = y[:,0] + sine_wave(daily_P['FracYear'], params1[0],params1[1],params1[2])    \n",
    "tsO_daily = y[:,1] + sine_wave(daily_P['FracYear'], params2[0],params2[1],params2[2])\n",
    "\n",
    "daily_P['d2H'] = tsH_daily\n",
    "daily_P['d18O'] = tsO_daily \n",
    "\n",
    "plt.figure()\n",
    "plt.plot(daily_P.index, daily_P['d2H'],'b.')\n",
    "plt.plot(daily_P.index, sine_wave(daily_P['FracYear'], params1[0],params1[1],params1[2]),'k')\n",
    "plt.plot(daily_P.index, daily_P['d18O'],'r.')\n",
    "plt.plot(daily_P.index, sine_wave(daily_P['FracYear'], params2[0],params2[1],params2[2]),'k') \n",
    "plt.xticks(rotation=45)"
   ]
  },
  {
   "cell_type": "markdown",
   "metadata": {},
   "source": [
    "## 3. visualize output - i.e. time series plots and dual isotope plots"
   ]
  },
  {
   "cell_type": "code",
   "execution_count": null,
   "metadata": {},
   "outputs": [],
   "source": [
    "# python or R scripts for plotting 1-2 sites (user can interchange site plotted by using unique site code (4 letter string))"
   ]
  },
  {
   "cell_type": "code",
   "execution_count": null,
   "metadata": {},
   "outputs": [],
   "source": []
  }
 ],
 "metadata": {
  "kernelspec": {
   "display_name": "Python 3",
   "language": "python",
   "name": "python3"
  },
  "language_info": {
   "codemirror_mode": {
    "name": "ipython",
    "version": 3
   },
   "file_extension": ".py",
   "mimetype": "text/x-python",
   "name": "python",
   "nbconvert_exporter": "python",
   "pygments_lexer": "ipython3",
   "version": "3.7.7"
  }
 },
 "nbformat": 4,
 "nbformat_minor": 4
}
