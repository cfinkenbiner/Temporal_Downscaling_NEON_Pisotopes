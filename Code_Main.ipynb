{
 "cells": [
  {
   "cell_type": "markdown",
   "metadata": {},
   "source": [
    "## 1. Download Precipitation and Isotope NEON data"
   ]
  },
  {
   "cell_type": "code",
   "execution_count": null,
   "metadata": {},
   "outputs": [],
   "source": [
    "# Load rpy2 so R scripts can run within jupyter notebook - run this one time\n",
    "%load_ext rpy2.ipython"
   ]
  },
  {
   "cell_type": "code",
   "execution_count": null,
   "metadata": {},
   "outputs": [],
   "source": [
    "%%R \n",
    "# This rpy2 'Rmagic' command allows to run the entire cell block as R code\n",
    "\n",
    "# Install R packages - run this one time\n",
    "install.packages(\"neonUtilities\")\n",
    "install.packages('openxlsx')\n"
   ]
  },
  {
   "cell_type": "code",
   "execution_count": null,
   "metadata": {},
   "outputs": [],
   "source": [
    "%%R\n",
    "\n",
    "# Load required libraries - run this every time\n",
    "library(neonUtilities)\n",
    "library(openxlsx)\n",
    "\n",
    "# Download and export ONAQ isotope data --> change this to all sites??\n",
    "ONAQIsoData <- loadByProduct(dpID=\"DP1.00038.001\", site=c(\"ONAQ\"))\n",
    "list2env(ONAQIsoData, .GlobalEnv)\n",
    "write.xlsx(wdi_isoPerSample, \"~/Desktop/NEON/Temporal_Downscaling_NEON_Pisotopes/ONAQIsoData.xlsx\", row.names=F)\n",
    "\n",
    "# downloading and exporting ONAQ precipitation data\n",
    "ONAQPrecipData <- loadByProduct(dpID=\"DP1.00006.001\", site=c(\"ONAQ\"))\n",
    "list2env(ONAQPrecipData, .GlobalEnv)\n",
    "write.xlsx(PRIPRE_30min, \"~/Desktop/NEON/Temporal_Downscaling_NEON_Pisotopes/ONAQPrecipData.xlsx\", row.names=F)"
   ]
  },
  {
   "cell_type": "markdown",
   "metadata": {},
   "source": [
    "## 2. Generate a downscaled daily data product at each NEON site"
   ]
  },
  {
   "cell_type": "code",
   "execution_count": 1,
   "metadata": {},
   "outputs": [],
   "source": [
    "## Python Import Statements\n",
    "import pandas as pd\n",
    "import numpy as np\n",
    "import os\n",
    "import scipy as sp\n",
    "from scipy import stats\n",
    "from scipy import optimize\n",
    "import matplotlib.pyplot as plt\n",
    "\n",
    "import changeTimes\n",
    "import getRunningMean\n",
    "import conditional_copula_ts"
   ]
  },
  {
   "cell_type": "code",
   "execution_count": 2,
   "metadata": {},
   "outputs": [],
   "source": [
    "ROOTDIR = os.getcwd()\n",
    "\n",
    "# 30min Precipitation Data\n",
    "df_P30 = pd.read_excel(ROOTDIR+'/ONAQPrecipData.xlsx',index=False)\n",
    "df_P30 = changeTimes.change_Pdata(df_P30)\n",
    "\n",
    "# Biweekly Stable Water Isotope Data\n",
    "df_iso = pd.read_excel(ROOTDIR+'/ONAQIsoData.xlsx',index=False)\n",
    "df_iso = changeTimes.change_ISOdata(df_iso)"
   ]
  },
  {
   "cell_type": "code",
   "execution_count": 11,
   "metadata": {},
   "outputs": [
    {
     "name": "stdout",
     "output_type": "stream",
     "text": [
      "Index(['uid', 'namedLocation', 'sampleID', 'sampleCode', 'isoTestSubsampleID',\n",
      "       'isoTestSubsampleBarcode', 'setDate', 'collectDate', 'd18OWater',\n",
      "       'd2HWater', 'd18OsdWater', 'd2HsdWater', 'laboratoryName',\n",
      "       'analysisDate', 'sampleCondition', 'externalRemarks', 'publicationDate',\n",
      "       'DateTime', 'FracYear', 'Total P'],\n",
      "      dtype='object')\n"
     ]
    }
   ],
   "source": [
    "# Create Biweekly Precipitation Amount Timeseries to Correspond to Recorded Isotope Values\n",
    "df_iso['setDate'] = pd.to_datetime(df_iso['setDate'])  \n",
    "df_iso['collectDate'] = pd.to_datetime(df_iso['collectDate']) \n",
    "\n",
    "P14 = []\n",
    "for i in np.arange(len(df_iso['setDate'])):\n",
    "    mask = ((df_P30['DateTime'] > df_iso['setDate'].iloc[i]) \n",
    "            & (df_P30['DateTime'] <= df_iso['collectDate'].iloc[i]))\n",
    "    \n",
    "    df_sub = df_P30.loc[mask]\n",
    "    P14.append(np.sum(df_sub['priPrecipBulk'].values))\n",
    "\n",
    "df_iso['Total P'] = P14\n",
    "del P14, i, mask\n",
    "\n",
    "print(df_iso.columns)"
   ]
  },
  {
   "cell_type": "code",
   "execution_count": 4,
   "metadata": {},
   "outputs": [
    {
     "name": "stdout",
     "output_type": "stream",
     "text": [
      "            Total P  FracYear\n",
      "DateTime                     \n",
      "2017-07-08     1.02  0.517454\n",
      "2017-07-09     0.88  0.520192\n",
      "2017-07-10     0.61  0.522930\n",
      "2017-07-11     0.60  0.525667\n",
      "2017-07-12     0.67  0.528405\n",
      "...             ...       ...\n",
      "2020-06-27     0.12  0.490075\n",
      "2020-06-28     0.58  0.492813\n",
      "2020-06-29     2.56  0.495551\n",
      "2020-06-30     0.33  0.498289\n",
      "2020-07-01      NaN  0.501027\n",
      "\n",
      "[1090 rows x 2 columns]\n"
     ]
    }
   ],
   "source": [
    "# Sum Daily Precipitation Amounts\n",
    "df_P30b = df_P30.set_index('DateTime')\n",
    "precip_daily = df_P30b['priPrecipBulk'].resample('D').sum() # sum total daily P\n",
    "frac_year = df_P30b['FracYear'].resample('D').mean() # average daily FracYear\n",
    "\n",
    "daily_P = pd.DataFrame({'Total P':precip_daily,'FracYear':frac_year})\n",
    "daily_P['Total P'].replace(0, np.nan, inplace=True)\n",
    "print(daily_P)"
   ]
  },
  {
   "cell_type": "markdown",
   "metadata": {},
   "source": [
    "Step 1 - Remove seasonal time series component (Section 2.b.1)"
   ]
  },
  {
   "cell_type": "code",
   "execution_count": 12,
   "metadata": {},
   "outputs": [
    {
     "name": "stdout",
     "output_type": "stream",
     "text": [
      "                                     uid            namedLocation  \\\n",
      "1   c3af194e-c2a4-4ddd-b5d5-38624f9a9e2b  ONAQ.TOS.wet.deposition   \n",
      "2   09724a6a-95b6-4e25-ae3c-8530dec6c83c  ONAQ.TOS.wet.deposition   \n",
      "3   f3cd9bc2-7600-42ce-8bde-66c470a92a07  ONAQ.TOS.wet.deposition   \n",
      "4   6c17072f-7f62-467f-bf3d-2396b89ebf4b  ONAQ.TOS.wet.deposition   \n",
      "7   68cf4f0a-902f-4bd4-937f-fea61b74c81f  ONAQ.TOS.wet.deposition   \n",
      "8   58d7e4d0-d15f-4d4e-a685-b0ea11a68e13  ONAQ.TOS.wet.deposition   \n",
      "9   c5bbff97-05fa-4267-8ed4-4b84b2e3306e  ONAQ.TOS.wet.deposition   \n",
      "11  2eb30d47-bc0d-4f1d-8f2c-a0a9ad13efe1  ONAQ.TOS.wet.deposition   \n",
      "12  b92d414e-afb9-4183-ab36-610b77537566  ONAQ.TOS.wet.deposition   \n",
      "14  ae83d923-a87c-4d7e-b6c4-6a8a883cbdd3  ONAQ.TOS.wet.deposition   \n",
      "15  f7fb1abf-169e-4716-9564-f0d3028ee65d  ONAQ.TOS.wet.deposition   \n",
      "16  d456b15a-404f-49a4-ae1b-60d7e9f44e33  ONAQ.TOS.wet.deposition   \n",
      "18  46a2d927-feb0-4cd7-a61e-fb9f220cc47f  ONAQ.TOS.wet.deposition   \n",
      "21  3cdc9926-2fdf-4fe5-9325-18c2ba9410b7  ONAQ.TOS.wet.deposition   \n",
      "22  4e3a4c1c-1f99-468e-bbba-b973ef59e6a4  ONAQ.TOS.wet.deposition   \n",
      "23  2f0f43ad-6685-4d07-b738-b2ab7e892d0f  ONAQ.TOS.wet.deposition   \n",
      "\n",
      "                  sampleID  sampleCode               isoTestSubsampleID  \\\n",
      "1   WDP.ONAQ.20181213.1103         NaN  WDP.ONAQ.20181213.1103.ISO.TEST   \n",
      "2   WDP.ONAQ.20181228.1233         NaN  WDP.ONAQ.20181228.1233.ISO.TEST   \n",
      "3   WDP.ONAQ.20190109.1058         NaN  WDP.ONAQ.20190109.1058.ISO.TEST   \n",
      "4   WDP.ONAQ.20190122.1140         NaN  WDP.ONAQ.20190122.1140.ISO.TEST   \n",
      "7   WDP.ONAQ.20190530.1009         NaN  WDP.ONAQ.20190530.1009.ISO.TEST   \n",
      "8   WDP.ONAQ.20190613.1033         NaN  WDP.ONAQ.20190613.1033.ISO.TEST   \n",
      "9   WDP.ONAQ.20190627.1315         NaN  WDP.ONAQ.20190627.1315.ISO.TEST   \n",
      "11  WDP.ONAQ.20190724.1445         NaN  WDP.ONAQ.20190724.1445.ISO.TEST   \n",
      "12  WDP.ONAQ.20190806.1012         NaN  WDP.ONAQ.20190806.1012.ISO.TEST   \n",
      "14  WDP.ONAQ.20190905.1048         NaN  WDP.ONAQ.20190905.1048.ISO.TEST   \n",
      "15  WDP.ONAQ.20190919.1408         NaN  WDP.ONAQ.20190919.1408.ISO.TEST   \n",
      "16  WDP.ONAQ.20191002.1042         NaN  WDP.ONAQ.20191002.1042.ISO.TEST   \n",
      "18  WDP.ONAQ.20191126.1121         NaN  WDP.ONAQ.20191126.1121.ISO.TEST   \n",
      "21  WDP.ONAQ.20200106.1045         NaN  WDP.ONAQ.20200106.1045.ISO.TEST   \n",
      "22  WDP.ONAQ.20200120.1036         NaN  WDP.ONAQ.20200120.1036.ISO.TEST   \n",
      "23  WDP.ONAQ.20200205.1000         NaN  WDP.ONAQ.20200205.1000.ISO.TEST   \n",
      "\n",
      "   isoTestSubsampleBarcode             setDate         collectDate  d18OWater  \\\n",
      "1             A00000057208 2018-11-29 19:32:00 2018-12-13 18:03:00    -16.387   \n",
      "2             A00000057046 2018-12-13 18:13:00 2018-12-28 19:33:00    -17.336   \n",
      "3             A00000057043 2018-12-28 19:33:00 2019-01-09 17:58:00    -23.648   \n",
      "4             A00000057042 2019-01-09 18:06:00 2019-01-22 18:40:00    -16.662   \n",
      "7             A00000057232 2019-05-17 18:02:00 2019-05-30 16:09:00    -15.746   \n",
      "8             A00000057235 2019-05-30 16:24:00 2019-06-13 16:33:00    -10.852   \n",
      "9             A00000057246 2019-06-13 16:34:00 2019-06-27 19:15:00     -2.948   \n",
      "11            A00000058703 2019-07-11 15:44:00 2019-07-24 20:45:00      8.120   \n",
      "12            A00000058708 2019-07-24 20:48:00 2019-08-06 16:12:00     -4.915   \n",
      "14            A00000058618 2019-08-21 16:30:00 2019-09-05 16:48:00     -0.435   \n",
      "15            A00000058639 2019-09-05 16:57:00 2019-09-19 20:08:00     -1.192   \n",
      "16            A00000057440 2019-09-19 16:58:00 2019-10-02 16:42:00    -10.037   \n",
      "18            A00000057453 2019-11-13 17:37:00 2019-11-26 18:21:00    -12.868   \n",
      "21            A00000057467 2019-12-24 16:49:00 2020-01-06 17:45:00    -12.759   \n",
      "22            A00000057449 2020-01-06 17:51:00 2020-01-20 17:36:00    -12.897   \n",
      "23            A00000058668 2020-01-20 17:58:00 2020-02-05 17:00:00    -12.958   \n",
      "\n",
      "    d2HWater  d18OsdWater  d2HsdWater                    laboratoryName  \\\n",
      "1   -128.993        0.037       0.028  SIRFER Lab at University of Utah   \n",
      "2   -137.746        0.038       0.152  SIRFER Lab at University of Utah   \n",
      "3   -189.482        0.012       0.174  SIRFER Lab at University of Utah   \n",
      "4   -126.424        0.058       0.223  SIRFER Lab at University of Utah   \n",
      "7   -118.610        0.066       0.273  SIRFER Lab at University of Utah   \n",
      "8    -86.309        0.030       0.099  SIRFER Lab at University of Utah   \n",
      "9    -57.268        0.049       0.153  SIRFER Lab at University of Utah   \n",
      "11    -9.651        0.035       0.151  SIRFER Lab at University of Utah   \n",
      "12   -38.649        0.062       0.190  SIRFER Lab at University of Utah   \n",
      "14   -29.022        0.051       0.212  SIRFER Lab at University of Utah   \n",
      "15   -12.724        0.021       0.093  SIRFER Lab at University of Utah   \n",
      "16   -78.358        0.057       0.389  SIRFER Lab at University of Utah   \n",
      "18  -113.623        0.015       0.120  SIRFER Lab at University of Utah   \n",
      "21   -92.016        0.012       0.107  SIRFER Lab at University of Utah   \n",
      "22  -112.147        0.027       0.098  SIRFER Lab at University of Utah   \n",
      "23  -108.593        0.027       0.165  SIRFER Lab at University of Utah   \n",
      "\n",
      "          analysisDate sampleCondition  externalRemarks   publicationDate  \\\n",
      "1  2019-03-04 19:00:00              OK              NaN  20200518T162608Z   \n",
      "2  2019-03-04 19:00:00              OK              NaN  20200518T162608Z   \n",
      "3  2019-03-04 19:00:00              OK              NaN  20200518T155312Z   \n",
      "4  2019-03-04 19:00:00              OK              NaN  20200518T155312Z   \n",
      "7  2019-07-29 18:00:00              OK              NaN  20200518T153345Z   \n",
      "8  2019-09-12 18:00:00              OK              NaN  20200518T153103Z   \n",
      "9  2019-09-12 18:00:00              OK              NaN  20200518T153103Z   \n",
      "11 2019-09-12 18:00:00              OK              NaN  20200518T153700Z   \n",
      "12 2019-09-12 18:00:00              OK              NaN  20200518T162102Z   \n",
      "14 2019-12-06 19:00:00              OK              NaN  20200518T161804Z   \n",
      "15 2019-12-06 19:00:00              OK              NaN  20200518T161804Z   \n",
      "16 2019-12-06 19:00:00              OK              NaN  20200518T162904Z   \n",
      "18 2020-01-23 19:00:00              OK              NaN  20200518T162149Z   \n",
      "21 2020-02-28 19:00:00              OK              NaN  20200518T153925Z   \n",
      "22 2020-02-28 19:00:00              OK              NaN  20200518T153925Z   \n",
      "23 2020-02-28 19:00:00              OK              NaN  20200601T132721Z   \n",
      "\n",
      "              DateTime  FracYear  Total P  \n",
      "1  2018-12-13 18:03:00  0.950034     7.18  \n",
      "2  2018-12-28 19:33:00  0.991102     8.51  \n",
      "3  2019-01-09 17:58:00  0.024641     8.14  \n",
      "4  2019-01-22 18:40:00  0.060233    16.55  \n",
      "7  2019-05-30 16:09:00  0.410678    32.48  \n",
      "8  2019-06-13 16:33:00  0.449008    14.89  \n",
      "9  2019-06-27 19:15:00  0.487337     4.79  \n",
      "11 2019-07-24 20:45:00  0.561259     2.57  \n",
      "12 2019-08-06 16:12:00  0.596851    14.85  \n",
      "14 2019-09-05 16:48:00  0.678987     5.57  \n",
      "15 2019-09-19 20:08:00  0.717317     8.33  \n",
      "16 2019-10-02 16:42:00  0.752909     8.29  \n",
      "18 2019-11-26 18:21:00  0.903491     8.85  \n",
      "21 2020-01-06 17:45:00  0.016427    12.61  \n",
      "22 2020-01-20 17:36:00  0.054757     8.11  \n",
      "23 2020-02-05 17:00:00  0.098563    13.12  \n",
      "0.014692378328741965\n"
     ]
    }
   ],
   "source": [
    "# Define Sine Wave Functions\n",
    "def sine_wave(t, amplitude, phase, offset):\n",
    "    return amplitude * np.sin(2*np.pi*t - phase) + offset  # assume phase is decimal year/year\n",
    "\n",
    "def sin_curves(name,agglevel,frac_yr,P,H,O):   \n",
    "    param_bounds=([0,-np.pi,-np.inf],[np.inf,np.pi,np.inf])               \n",
    "    \n",
    "    # d2H - find parameters for sine function based on frac year \n",
    "    params1, params_covariance = optimize.curve_fit(sine_wave, frac_yr, H, p0 = [np.std(H)*(2*np.sqrt(2)),np.pi/2,np.mean(H)], bounds = param_bounds)\n",
    "    # d18O - find parameters for sine function based on frac year \n",
    "    params2, params_covariance = optimize.curve_fit(sine_wave, frac_yr, O, p0 = [np.std(O)*(2*np.sqrt(2)),np.pi/2,np.mean(O)], bounds = param_bounds)\n",
    "      \n",
    "    return params1, params2\n",
    "\n",
    "df_iso = df_iso.sort_values('DateTime')\n",
    "df_iso = df_iso.dropna(subset=['Total P'])\n",
    "tsX = df_iso['FracYear'].values \n",
    "tsP = df_iso['Total P'].values\n",
    "tsO = df_iso['d18OWater'].values\n",
    "tsH = df_iso['d2HWater'].values   \n",
    "\n",
    "dayslist = []\n",
    "for dt in np.arange(len(df_iso['DateTime'])):\n",
    "    dayslist.append((df_iso['DateTime'].iloc[dt] - df_iso['DateTime'].iloc[0]).days)\n",
    "dayslist = np.array(dayslist)\n",
    "\n",
    "# this is precipitation frequency (see Eq. 4)\n",
    "p_events = df_iso[df_iso['Total P'].notna()]\n",
    "print(p_events)\n",
    "\n",
    "lamda = len(p_events['Total P'])/((daily_P.index.max() - daily_P.index.min()).days) \n",
    "print(lamda)\n",
    "\n",
    "sitename = str((df_iso['sampleID'].iloc[0])[4:8])\n",
    "\n",
    "params1, params2 = sin_curves(sitename,14,tsX,tsP,tsH,tsO) # 14 = biweekly sample, sample frequency\n",
    "tsY_sine_wave = sine_wave(tsX, params1[0],params1[1],params1[2]) # solve for amplitude, phase, offset\n",
    "adj_2H = np.array((tsH - tsY_sine_wave))    # remove seasonality from time series                       \n",
    "\n",
    "tsY_sine_wave = sine_wave(tsX, params2[0],params2[1],params2[2])     \n",
    "adj_18O = np.array((tsO - tsY_sine_wave))  "
   ]
  },
  {
   "cell_type": "code",
   "execution_count": 13,
   "metadata": {},
   "outputs": [
    {
     "name": "stdout",
     "output_type": "stream",
     "text": [
      "Resulting time series statistics should be a mean zero process - means are approx. zero\n",
      "[[ 1.09275000e+01  6.33778710e-08  8.91584773e-09]\n",
      " [ 6.72998653e+00  2.74082842e+01  4.76215428e+00]\n",
      " [-2.44952714e-01 -4.71851922e-01  8.98585573e-01]]\n"
     ]
    }
   ],
   "source": [
    "# Get biweekly site stats\n",
    "biweekly_stats = np.array([[np.mean(tsP), np.mean(adj_2H), np.mean(adj_18O)],\n",
    "                 [np.std(tsP), np.std(adj_2H), np.std(adj_18O)],\n",
    "                 [sp.stats.pearsonr(tsP,adj_2H)[0], sp.stats.pearsonr(tsP,adj_18O)[0], sp.stats.pearsonr(adj_2H,adj_18O)[0]]])\n",
    "print(\"Resulting time series statistics should be a mean zero process - means are approx. zero\")\n",
    "print(biweekly_stats)"
   ]
  },
  {
   "cell_type": "markdown",
   "metadata": {},
   "source": [
    "Step 2 - Predict daily statistics from biweekly time series (Section 2.b.2)\n",
    "Now we will need to aggregate the stochastic biweekly time series - i.e. calculated\n",
    "weighed running means at biweekly (14-day), 28-day, 42-day, 56-day and 84-day intervals"
   ]
  },
  {
   "cell_type": "code",
   "execution_count": 7,
   "metadata": {},
   "outputs": [
    {
     "name": "stdout",
     "output_type": "stream",
     "text": [
      "   site  agglev    lambda       PmuB          HmuB          OmuB     PsigB  \\\n",
      "0  ONAQ      14  0.014692  10.927500  6.337787e-08  8.915848e-09  6.729987   \n",
      "1  ONAQ      28  0.014692  12.395303  1.693503e-08  7.527635e-11  7.432982   \n",
      "2  ONAQ      42  0.014692  12.664524  5.389526e-08 -7.578136e-09  8.168665   \n",
      "3  ONAQ      56  0.014692  12.836667 -2.920600e-08  0.000000e+00  8.102183   \n",
      "4  ONAQ      70  0.014692  10.983000  2.016520e-12 -1.931094e-08  3.438573   \n",
      "5  ONAQ      84  0.014692  13.983833 -2.900435e-12  4.026969e-10  9.314075   \n",
      "\n",
      "       HsigB     OsigB      PHpB      POpB      HOpB  \n",
      "0  27.408284  4.762154 -0.244953 -0.471852  0.898586  \n",
      "1  20.863164  3.415396 -0.267219 -0.480032  0.866566  \n",
      "2  21.834525  2.990225 -0.369992 -0.434037  0.984621  \n",
      "3  17.916000  2.726485 -0.241369 -0.395785  0.963708  \n",
      "4  23.698785  3.394874 -0.288601 -0.306972  0.997940  \n",
      "5   5.222634  0.452502  0.240199  0.201262  0.992230  \n"
     ]
    }
   ],
   "source": [
    "# function defining calculated statistics on time series\n",
    "def calcSiteStats(site,lamda,agglev,P,H,O):\n",
    "    Pmu = np.mean(P)            # means\n",
    "    Hmu = np.mean(H)\n",
    "    Omu = np.mean(O)\n",
    "    \n",
    "    Psigma = np.std(P)           # stds/sigmas\n",
    "    Hsigma = np.std(H)\n",
    "    Osigma = np.std(O)\n",
    "    \n",
    "    PH_pearson = sp.stats.pearsonr(P,H)[0]     # rhos\n",
    "    PO_pearson = sp.stats.pearsonr(P,O)[0]  \n",
    "    HO_pearson = sp.stats.pearsonr(H,O)[0] \n",
    "    \n",
    "    site_stats.append([site,agglev,lamda,Pmu,Hmu,Omu,Psigma,Hsigma,Osigma,PH_pearson,PO_pearson,HO_pearson])\n",
    "\n",
    "site_stats = [[sitename, 14, lamda,\n",
    "               biweekly_stats[0,0], biweekly_stats[0,1], biweekly_stats[0,2],\n",
    "               biweekly_stats[1,0], biweekly_stats[1,1], biweekly_stats[1,2],\n",
    "               biweekly_stats[2,0], biweekly_stats[2,1], biweekly_stats[2,2]]]\n",
    "\n",
    "for n in np.arange(28,85,14):\n",
    "    xday_Hb, xday_Pb, xday_Xb, days = getRunningMean.main(np.array(dayslist),np.array(tsH),np.array(tsP),tsX,n)\n",
    "    xday_Ob, xday_Pb, xday_Xb, days = getRunningMean.main(np.array(dayslist),np.array(tsO),np.array(tsP),tsX,n)  \n",
    "\n",
    "    xday_Xb = np.array(xday_Xb)\n",
    "    xday_Pb = np.array(xday_Pb)\n",
    "    xday_Hb = np.array(xday_Hb)\n",
    "    xday_Ob = np.array(xday_Ob)   \n",
    "  \n",
    "    params1a, params2a = sin_curves(sitename,n,xday_Xb,xday_Pb,xday_Hb,xday_Ob)\n",
    "\n",
    "    tsY_sine_wave = sine_wave(xday_Xb, params1a[0],params1a[1],params1a[2])\n",
    "    adj_2Hb = np.array((xday_Hb - tsY_sine_wave))                           \n",
    "\n",
    "    tsY_sine_wave = sine_wave(xday_Xb, params2a[0],params2a[1],params2a[2])     \n",
    "    adj_18Ob = np.array((xday_Ob - tsY_sine_wave))   \n",
    "    \n",
    "    calcSiteStats(sitename,lamda,n,xday_Pb,adj_2Hb,adj_18Ob)\n",
    " \n",
    "### the stats are labeled with 'B' here because they are of the stochastic component - not the original time series\n",
    "Site_Stats = pd.DataFrame(site_stats, columns = ['site','agglev','lambda','PmuB','HmuB','OmuB','PsigB','HsigB','OsigB','PHpB','POpB','HOpB'])\n",
    "print(Site_Stats)"
   ]
  },
  {
   "cell_type": "code",
   "execution_count": 8,
   "metadata": {},
   "outputs": [],
   "source": [
    "### Now we apply equation 4\n",
    "Hi = [] ; Oi = [] # estimated 1-day parameters\n",
    "H_a = [] ; O_a = [] # a term\n",
    "\n",
    "xaxis = np.array(Site_Stats['agglev'].values)\n",
    "yaxis1 = np.array(Site_Stats['HsigB'].values)\n",
    "yaxis2 = np.array(Site_Stats['OsigB'].values)\n",
    "\n",
    "def eq4(x,a,b):\n",
    "    return b/(x*lamda)**a\n",
    "\n",
    "bounds = [[0.25,yaxis1[0]],[0.5,np.inf]]\n",
    "p1,p2 = optimize.curve_fit(eq4, xaxis, yaxis1, p0 = [0.3,yaxis1[0]], bounds=bounds)\n",
    "\n",
    "Hi.append(float(p1[1]))\n",
    "H_a.append(p1[0])\n",
    "\n",
    "bounds = [[0.2,yaxis2[0]],[0.5,np.inf]]\n",
    "p1,p2 = optimize.curve_fit(eq4, xaxis, yaxis2,  p0 = [0.3,yaxis2[0]], bounds=bounds)\n",
    "\n",
    "Oi.append(float(p1[1]))\n",
    "O_a.append(p1[0])"
   ]
  },
  {
   "cell_type": "markdown",
   "metadata": {},
   "source": [
    "Step 3 - Generate daily time series with estimated statistcs (Section 2.b.2)"
   ]
  },
  {
   "cell_type": "code",
   "execution_count": 9,
   "metadata": {},
   "outputs": [],
   "source": [
    "H_scale = np.sort(np.array(adj_2H) * Hi / Site_Stats['HsigB'].iloc[0])\n",
    "O_scale = np.sort(np.array(adj_18O) * Oi / Site_Stats['OsigB'].iloc[0])\n",
    "\n",
    "copula_stats = np.matrix([[0, 0, 0], [np.std(tsP), Hi, Oi],\n",
    "                          [Site_Stats['PHpB'].iloc[0], Site_Stats['POpB'].iloc[0],\n",
    "                           Site_Stats['HOpB'].iloc[0]]])    \n",
    "        \n",
    "new_ts = conditional_copula_ts.main(daily_P['Total P'],copula_stats,H_scale,O_scale)\n",
    "y = np.array([np.array(xi) for xi in new_ts])"
   ]
  },
  {
   "cell_type": "markdown",
   "metadata": {},
   "source": [
    "Step 4 - Add in seasonal time series component (Section 2.b.2)"
   ]
  },
  {
   "cell_type": "code",
   "execution_count": 10,
   "metadata": {},
   "outputs": [
    {
     "data": {
      "text/plain": [
       "(array([736573., 736695., 736815., 736938., 737060., 737180., 737303.,\n",
       "        737425., 737546.]),\n",
       " <a list of 9 Text xticklabel objects>)"
      ]
     },
     "execution_count": 10,
     "metadata": {},
     "output_type": "execute_result"
    },
    {
     "data": {
      "image/png": "[encoded data removed]",
      "text/plain": [
       "<Figure size 432x288 with 1 Axes>"
      ]
     },
     "metadata": {
      "needs_background": "light"
     },
     "output_type": "display_data"
    }
   ],
   "source": [
    "# Add back in n-day sine function here:\n",
    "tsH_daily = y[:,0] + sine_wave(daily_P['FracYear'], params1[0],params1[1],params1[2])    \n",
    "tsO_daily = y[:,1] + sine_wave(daily_P['FracYear'], params2[0],params2[1],params2[2])\n",
    "\n",
    "daily_P['d2H'] = tsH_daily\n",
    "daily_P['d18O'] = tsO_daily \n",
    "\n",
    "plt.figure()\n",
    "plt.plot(daily_P.index, daily_P['d2H'],'b.')\n",
    "plt.plot(daily_P.index, sine_wave(daily_P['FracYear'], params1[0],params1[1],params1[2]),'k')\n",
    "plt.plot(daily_P.index, daily_P['d18O'],'r.')\n",
    "plt.plot(daily_P.index, sine_wave(daily_P['FracYear'], params2[0],params2[1],params2[2]),'k') \n",
    "plt.xticks(rotation=45)"
   ]
  },
  {
   "cell_type": "markdown",
   "metadata": {},
   "source": [
    "## 3. visualize output - i.e. time series plots and dual isotope plots"
   ]
  },
  {
   "cell_type": "code",
   "execution_count": null,
   "metadata": {},
   "outputs": [],
   "source": [
    "# python or R scripts for plotting 1-2 sites (user can interchange site plotted by using unique site code (4 letter string))"
   ]
  },
  {
   "cell_type": "code",
   "execution_count": null,
   "metadata": {},
   "outputs": [],
   "source": []
  }
 ],
 "metadata": {
  "kernelspec": {
   "display_name": "Python 3",
   "language": "python",
   "name": "python3"
  },
  "language_info": {
   "codemirror_mode": {
    "name": "ipython",
    "version": 3
   },
   "file_extension": ".py",
   "mimetype": "text/x-python",
   "name": "python",
   "nbconvert_exporter": "python",
   "pygments_lexer": "ipython3",
   "version": "3.7.7"
  }
 },
 "nbformat": 4,
 "nbformat_minor": 4
}
